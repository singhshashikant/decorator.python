{
 "cells": [
  {
   "cell_type": "code",
   "execution_count": 1,
   "id": "74f92573-17fe-4693-b897-c7908d5f74c5",
   "metadata": {},
   "outputs": [],
   "source": [
    "# decorator is a enhance the function"
   ]
  },
  {
   "cell_type": "code",
   "execution_count": 3,
   "id": "99356eeb-c04e-4127-832a-b87320a857cd",
   "metadata": {},
   "outputs": [],
   "source": [
    "def deco(func):\n",
    "    def inner_dec():\n",
    "        print(\"this is the start my function\")\n",
    "        func()\n",
    "        print(\"this is my end function\")\n",
    "    return inner_dec"
   ]
  },
  {
   "cell_type": "code",
   "execution_count": 2,
   "id": "cb12e92b-7ad1-4b9c-a7ed-eac7da6ed11f",
   "metadata": {},
   "outputs": [
    {
     "name": "stdout",
     "output_type": "stream",
     "text": [
      "12\n"
     ]
    }
   ],
   "source": [
    "def test():\n",
    "    print(6+6)\n",
    "test()"
   ]
  },
  {
   "cell_type": "code",
   "execution_count": 4,
   "id": "a28cbd16-98b5-4d54-955d-f00b9f7210ed",
   "metadata": {},
   "outputs": [
    {
     "name": "stdout",
     "output_type": "stream",
     "text": [
      "this is the start my function\n",
      "13\n",
      "this is my end function\n"
     ]
    }
   ],
   "source": [
    "@deco\n",
    "def test1():\n",
    "    print(6+7)\n",
    "test1()    "
   ]
  },
  {
   "cell_type": "code",
   "execution_count": 6,
   "id": "15013889-a542-4141-adbd-a5e3d46c888a",
   "metadata": {},
   "outputs": [],
   "source": [
    "# time complexity"
   ]
  },
  {
   "cell_type": "code",
   "execution_count": 10,
   "id": "8f3090c4-d843-42cf-b22f-eff09dfb0117",
   "metadata": {},
   "outputs": [],
   "source": [
    "import time\n",
    "\n",
    "\n",
    "def timer_test(func):\n",
    "    def timer_test_inner():\n",
    "        start=time.time()\n",
    "        func()\n",
    "        end=time.time()\n",
    "        print(end-start)\n",
    "    return timer_test_inner"
   ]
  },
  {
   "cell_type": "code",
   "execution_count": 11,
   "id": "069b1306-0f91-4777-a9a0-1bf1804d8d3a",
   "metadata": {},
   "outputs": [
    {
     "name": "stdout",
     "output_type": "stream",
     "text": [
      "51\n",
      "4.506111145019531e-05\n"
     ]
    }
   ],
   "source": [
    "@timer_test\n",
    "def test2():\n",
    "    print(45+6)\n",
    "test2()"
   ]
  },
  {
   "cell_type": "code",
   "execution_count": null,
   "id": "f49972b5-401e-4b07-87b7-18bcaccc001a",
   "metadata": {},
   "outputs": [],
   "source": []
  }
 ],
 "metadata": {
  "kernelspec": {
   "display_name": "Python 3 (ipykernel)",
   "language": "python",
   "name": "python3"
  },
  "language_info": {
   "codemirror_mode": {
    "name": "ipython",
    "version": 3
   },
   "file_extension": ".py",
   "mimetype": "text/x-python",
   "name": "python",
   "nbconvert_exporter": "python",
   "pygments_lexer": "ipython3",
   "version": "3.10.8"
  }
 },
 "nbformat": 4,
 "nbformat_minor": 5
}
